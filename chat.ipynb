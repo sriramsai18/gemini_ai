{
 "cells": [
  {
   "cell_type": "code",
   "execution_count": 13,
   "id": "3eece9ae-cd4e-4615-b787-fd467124a0d6",
   "metadata": {},
   "outputs": [],
   "source": [
    "import google.generativeai as genai\n",
    "import os\n",
    "from dotenv import load_dotenv,find_dotenv\n",
    "load_dotenv(find_dotenv(),override=True)\n",
    "genai.configure(api_key=os.environ.get(\"GOOGLE_API_KEY\"))"
   ]
  },
  {
   "cell_type": "code",
   "execution_count": 14,
   "id": "8313d757-7a1b-4f78-b08d-b787af7e6577",
   "metadata": {},
   "outputs": [],
   "source": [
    "model=genai.GenerativeModel('gemini-pro')\n"
   ]
  },
  {
   "cell_type": "code",
   "execution_count": 15,
   "id": "c57b6e5c-8a1a-423e-9249-c8092bcf7fe7",
   "metadata": {},
   "outputs": [],
   "source": [
    "chat=model.start_chat(history=[])\n"
   ]
  },
  {
   "cell_type": "code",
   "execution_count": 17,
   "id": "3d42dd44-4092-4834-baff-d3479d363799",
   "metadata": {},
   "outputs": [
    {
     "data": {
      "text/plain": [
       "response:\n",
       "GenerateContentResponse(\n",
       "    done=True,\n",
       "    iterator=None,\n",
       "    result=glm.GenerateContentResponse({'candidates': [{'content': {'parts': [{'text': 'New Delhi'}], 'role': 'model'}, 'finish_reason': 1, 'index': 0, 'safety_ratings': [{'category': 9, 'probability': 1, 'blocked': False}, {'category': 8, 'probability': 1, 'blocked': False}, {'category': 7, 'probability': 1, 'blocked': False}, {'category': 10, 'probability': 1, 'blocked': False}], 'token_count': 0, 'grounding_attributions': []}], 'prompt_feedback': {'safety_ratings': [{'category': 9, 'probability': 1, 'blocked': False}, {'category': 8, 'probability': 1, 'blocked': False}, {'category': 7, 'probability': 1, 'blocked': False}, {'category': 10, 'probability': 1, 'blocked': False}], 'block_reason': 0}}),\n",
       ")"
      ]
     },
     "execution_count": 17,
     "metadata": {},
     "output_type": "execute_result"
    }
   ],
   "source": [
    "chat.send_message(\"what is the capital of india\")"
   ]
  },
  {
   "cell_type": "code",
   "execution_count": 20,
   "id": "9d3a3c0b-6217-43d1-8fdc-a751b64b1b1b",
   "metadata": {},
   "outputs": [
    {
     "data": {
      "text/plain": [
       "parts {\n",
       "  text: \"New Delhi\"\n",
       "}\n",
       "role: \"model\""
      ]
     },
     "execution_count": 20,
     "metadata": {},
     "output_type": "execute_result"
    }
   ],
   "source": [
    "chat.history[1]"
   ]
  },
  {
   "cell_type": "code",
   "execution_count": 21,
   "id": "2ad45e12-41eb-4bb6-b40c-a5b44677c120",
   "metadata": {},
   "outputs": [
    {
     "data": {
      "text/plain": [
       "response:\n",
       "GenerateContentResponse(\n",
       "    done=True,\n",
       "    iterator=None,\n",
       "    result=glm.GenerateContentResponse({'candidates': [{'content': {'parts': [{'text': '1,484 square kilometers (573 square miles)'}], 'role': 'model'}, 'finish_reason': 1, 'index': 0, 'safety_ratings': [{'category': 9, 'probability': 1, 'blocked': False}, {'category': 8, 'probability': 1, 'blocked': False}, {'category': 7, 'probability': 1, 'blocked': False}, {'category': 10, 'probability': 1, 'blocked': False}], 'token_count': 0, 'grounding_attributions': []}], 'prompt_feedback': {'safety_ratings': [{'category': 9, 'probability': 1, 'blocked': False}, {'category': 8, 'probability': 1, 'blocked': False}, {'category': 7, 'probability': 1, 'blocked': False}, {'category': 10, 'probability': 1, 'blocked': False}], 'block_reason': 0}}),\n",
       ")"
      ]
     },
     "execution_count": 21,
     "metadata": {},
     "output_type": "execute_result"
    }
   ],
   "source": [
    "chat.send_message(\"what is the area of the capital\")"
   ]
  },
  {
   "cell_type": "code",
   "execution_count": 22,
   "id": "d57df173-9a40-4f89-bf54-eb79394a0dd5",
   "metadata": {},
   "outputs": [
    {
     "data": {
      "text/plain": [
       "ChatSession(\n",
       "    model=genai.GenerativeModel(\n",
       "        model_name='models/gemini-pro',\n",
       "        generation_config={},\n",
       "        safety_settings={},\n",
       "        tools=None,\n",
       "    ),\n",
       "    history=[glm.Content({'parts': [{'text': 'what is the capital of india'}], 'role': 'user'}), glm.Content({'parts': [{'text': 'New Delhi'}], 'role': 'model'}), glm.Content({'parts': [{'text': 'what is the ...f the capital'}], 'role': 'user'}), glm.Content({'parts': [{'text': '1,484 square...square miles)'}], 'role': 'model'})]\n",
       ")"
      ]
     },
     "execution_count": 22,
     "metadata": {},
     "output_type": "execute_result"
    }
   ],
   "source": [
    "chat"
   ]
  },
  {
   "cell_type": "code",
   "execution_count": 24,
   "id": "762fb6a6-e54b-4529-9a30-4dbbd39a07aa",
   "metadata": {},
   "outputs": [
    {
     "data": {
      "text/plain": [
       "response:\n",
       "GenerateContentResponse(\n",
       "    done=True,\n",
       "    iterator=None,\n",
       "    result=glm.GenerateContentResponse({'candidates': [{'content': {'parts': [{'text': '29,399,142 (2021)'}], 'role': 'model'}, 'finish_reason': 1, 'index': 0, 'safety_ratings': [{'category': 9, 'probability': 1, 'blocked': False}, {'category': 8, 'probability': 1, 'blocked': False}, {'category': 7, 'probability': 1, 'blocked': False}, {'category': 10, 'probability': 1, 'blocked': False}], 'token_count': 0, 'grounding_attributions': []}], 'prompt_feedback': {'safety_ratings': [{'category': 9, 'probability': 1, 'blocked': False}, {'category': 8, 'probability': 1, 'blocked': False}, {'category': 7, 'probability': 1, 'blocked': False}, {'category': 10, 'probability': 1, 'blocked': False}], 'block_reason': 0}}),\n",
       ")"
      ]
     },
     "execution_count": 24,
     "metadata": {},
     "output_type": "execute_result"
    }
   ],
   "source": [
    "chat.send_message(\"what is the population\")"
   ]
  },
  {
   "cell_type": "code",
   "execution_count": 25,
   "id": "eac0aa07-6396-4847-8128-c2e6284534fb",
   "metadata": {},
   "outputs": [
    {
     "data": {
      "text/plain": [
       "ChatSession(\n",
       "    model=genai.GenerativeModel(\n",
       "        model_name='models/gemini-pro',\n",
       "        generation_config={},\n",
       "        safety_settings={},\n",
       "        tools=None,\n",
       "    ),\n",
       "    history=[glm.Content({'parts': [{'text': 'what is the capital of india'}], 'role': 'user'}), glm.Content({'parts': [{'text': 'New Delhi'}], 'role': 'model'}), glm.Content({'parts': [{'text': 'what is the ...f the capital'}], 'role': 'user'}), glm.Content({'parts': [{'text': '1,484 square...square miles)'}], 'role': 'model'}), glm.Content({'parts': [{'text': 'what is the population'}], 'role': 'user'}), glm.Content({'parts': [{'text': '29,399,142 (2021)'}], 'role': 'model'})]\n",
       ")"
      ]
     },
     "execution_count": 25,
     "metadata": {},
     "output_type": "execute_result"
    }
   ],
   "source": [
    "chat"
   ]
  },
  {
   "cell_type": "code",
   "execution_count": 26,
   "id": "f330658c-a706-4cef-bbaa-5dc513b969d5",
   "metadata": {},
   "outputs": [
    {
     "data": {
      "text/plain": [
       "[parts {\n",
       "   text: \"what is the capital of india\"\n",
       " }\n",
       " role: \"user\",\n",
       " parts {\n",
       "   text: \"New Delhi\"\n",
       " }\n",
       " role: \"model\",\n",
       " parts {\n",
       "   text: \"what is the area of the capital\"\n",
       " }\n",
       " role: \"user\",\n",
       " parts {\n",
       "   text: \"1,484 square kilometers (573 square miles)\"\n",
       " }\n",
       " role: \"model\",\n",
       " parts {\n",
       "   text: \"what is the population\"\n",
       " }\n",
       " role: \"user\",\n",
       " parts {\n",
       "   text: \"29,399,142 (2021)\"\n",
       " }\n",
       " role: \"model\"]"
      ]
     },
     "execution_count": 26,
     "metadata": {},
     "output_type": "execute_result"
    }
   ],
   "source": [
    "chat.history"
   ]
  },
  {
   "cell_type": "code",
   "execution_count": 28,
   "id": "e3efd219-e13e-49f0-9a01-a38e27bf7c75",
   "metadata": {},
   "outputs": [
    {
     "data": {
      "text/plain": [
       "response:\n",
       "GenerateContentResponse(\n",
       "    done=True,\n",
       "    iterator=None,\n",
       "    result=glm.GenerateContentResponse({'candidates': [{'content': {'parts': [{'text': '**You have asked me the following questions so far:**\\n\\n1. What is the capital of India?\\n2. What is the area of the capital?\\n3. What is the population of the capital?\\n\\n**My responses:**\\n\\n1. New Delhi\\n2. 1,484 square kilometers (573 square miles)\\n3. 29,399,142 (2021)'}], 'role': 'model'}, 'finish_reason': 1, 'index': 0, 'safety_ratings': [{'category': 9, 'probability': 1, 'blocked': False}, {'category': 8, 'probability': 1, 'blocked': False}, {'category': 7, 'probability': 1, 'blocked': False}, {'category': 10, 'probability': 1, 'blocked': False}], 'token_count': 0, 'grounding_attributions': []}], 'prompt_feedback': {'safety_ratings': [{'category': 9, 'probability': 1, 'blocked': False}, {'category': 8, 'probability': 1, 'blocked': False}, {'category': 7, 'probability': 1, 'blocked': False}, {'category': 10, 'probability': 1, 'blocked': False}], 'block_reason': 0}}),\n",
       ")"
      ]
     },
     "execution_count": 28,
     "metadata": {},
     "output_type": "execute_result"
    }
   ],
   "source": [
    "chat.send_message(\"what i have asked you sofar\")"
   ]
  },
  {
   "cell_type": "code",
   "execution_count": 30,
   "id": "662c261e-64ca-4666-b6d3-5d17b9265c5b",
   "metadata": {},
   "outputs": [
    {
     "data": {
      "text/plain": [
       "text: \"**You have asked me the following questions so far:**\\n\\n1. What is the capital of India?\\n2. What is the area of the capital?\\n3. What is the population of the capital?\\n\\n**My responses:**\\n\\n1. New Delhi\\n2. 1,484 square kilometers (573 square miles)\\n3. 29,399,142 (2021)\""
      ]
     },
     "execution_count": 30,
     "metadata": {},
     "output_type": "execute_result"
    }
   ],
   "source": [
    "chat.history[-1].parts[0]"
   ]
  },
  {
   "cell_type": "code",
   "execution_count": 32,
   "id": "0e8483f4-7aef-47b3-8f7b-0210375182c9",
   "metadata": {},
   "outputs": [
    {
     "name": "stdout",
     "output_type": "stream",
     "text": [
      "User:what is the capital of india\n",
      "****************************************************************************************************\n",
      "Model:New Delhi\n",
      "****************************************************************************************************\n",
      "User:what is the area of the capital\n",
      "****************************************************************************************************\n",
      "Model:1,484 square kilometers (573 square miles)\n",
      "****************************************************************************************************\n",
      "User:what is the population\n",
      "****************************************************************************************************\n",
      "Model:29,399,142 (2021)\n",
      "****************************************************************************************************\n",
      "User:what i have asked you sofar\n",
      "****************************************************************************************************\n",
      "Model:**You have asked me the following questions so far:**\n",
      "\n",
      "1. What is the capital of India?\n",
      "2. What is the area of the capital?\n",
      "3. What is the population of the capital?\n",
      "\n",
      "**My responses:**\n",
      "\n",
      "1. New Delhi\n",
      "2. 1,484 square kilometers (573 square miles)\n",
      "3. 29,399,142 (2021)\n",
      "****************************************************************************************************\n"
     ]
    }
   ],
   "source": [
    "for item in chat.history:\n",
    "    print(f'{item.role.capitalize()}:{item.parts[0].text}')\n",
    "    print(\"*\"*100)"
   ]
  },
  {
   "cell_type": "code",
   "execution_count": null,
   "id": "c6f020d7-c043-462a-b09a-904a6246d5a9",
   "metadata": {},
   "outputs": [],
   "source": []
  }
 ],
 "metadata": {
  "kernelspec": {
   "display_name": "Python 3 (ipykernel)",
   "language": "python",
   "name": "python3"
  },
  "language_info": {
   "codemirror_mode": {
    "name": "ipython",
    "version": 3
   },
   "file_extension": ".py",
   "mimetype": "text/x-python",
   "name": "python",
   "nbconvert_exporter": "python",
   "pygments_lexer": "ipython3",
   "version": "3.9.5"
  }
 },
 "nbformat": 4,
 "nbformat_minor": 5
}
