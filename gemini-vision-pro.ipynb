{
 "cells": [
  {
   "cell_type": "markdown",
   "id": "4e2666d5-ab8c-4c2b-b535-463fe27eee54",
   "metadata": {},
   "source": [
    "# Generating Text from Image and Text inputs :Gemini Pro Vision"
   ]
  },
  {
   "cell_type": "code",
   "execution_count": 3,
   "id": "1767c369-782b-4937-a9b4-085a573afd38",
   "metadata": {},
   "outputs": [],
   "source": [
    "import os\n",
    "import google.generativeai as genai\n",
    "from dotenv import load_dotenv,find_dotenv\n",
    "load_dotenv(find_dotenv(),override=True)\n",
    "os.environ.get(\"GEMINI_API_KEY\")\n",
    "genai.configure(api_key=os.environ.get(\"GEMINI_API_KEY\"))\n"
   ]
  },
  {
   "cell_type": "code",
   "execution_count": 23,
   "id": "4b17873b-c778-406f-a737-8d6cf80d5e79",
   "metadata": {},
   "outputs": [
    {
     "name": "stdout",
     "output_type": "stream",
     "text": [
      "Requirement already satisfied: Pillow in d:\\google_gemini_api\\my_env\\lib\\site-packages (10.2.0)Note: you may need to restart the kernel to use updated packages.\n",
      "\n"
     ]
    }
   ],
   "source": [
    "pip install Pillow"
   ]
  },
  {
   "cell_type": "code",
   "execution_count": 24,
   "id": "749614cc-7093-49ae-8d14-2df1c5927812",
   "metadata": {},
   "outputs": [],
   "source": [
    "from PIL import Image\n"
   ]
  },
  {
   "cell_type": "code",
   "execution_count": 29,
   "id": "92418185-d89e-44da-b47d-aa50977347a0",
   "metadata": {},
   "outputs": [
    {
     "ename": "UnicodeDecodeError",
     "evalue": "'utf-8' codec can't decode byte 0xbd in position 4: invalid start byte",
     "output_type": "error",
     "traceback": [
      "\u001b[1;31m---------------------------------------------------------------------------\u001b[0m",
      "\u001b[1;31mUnicodeDecodeError\u001b[0m                        Traceback (most recent call last)",
      "Cell \u001b[1;32mIn[29], line 9\u001b[0m\n\u001b[0;32m      7\u001b[0m bytes_arr\u001b[38;5;241m=\u001b[39mbytes_arr\u001b[38;5;241m.\u001b[39mgetvalue()\n\u001b[0;32m      8\u001b[0m encoded_image_data\u001b[38;5;241m=\u001b[39mbase64\u001b[38;5;241m.\u001b[39mb64decode(bytes_arr)\n\u001b[1;32m----> 9\u001b[0m image_blob\u001b[38;5;241m=\u001b[39m{ \u001b[38;5;124m'\u001b[39m\u001b[38;5;124mmime_type\u001b[39m\u001b[38;5;124m'\u001b[39m:\u001b[38;5;124m'\u001b[39m\u001b[38;5;124mimage/jpeg\u001b[39m\u001b[38;5;124m'\u001b[39m,\u001b[38;5;124m'\u001b[39m\u001b[38;5;124mdata\u001b[39m\u001b[38;5;124m'\u001b[39m:\u001b[43mencoded_image_data\u001b[49m\u001b[38;5;241;43m.\u001b[39;49m\u001b[43mdecode\u001b[49m\u001b[43m(\u001b[49m\u001b[38;5;124;43m\"\u001b[39;49m\u001b[38;5;124;43mutf-8\u001b[39;49m\u001b[38;5;124;43m\"\u001b[39;49m\u001b[43m)\u001b[49m }\n\u001b[0;32m     10\u001b[0m model\u001b[38;5;241m=\u001b[39mgenai\u001b[38;5;241m.\u001b[39mGenerativeModel(\u001b[38;5;124m\"\u001b[39m\u001b[38;5;124mgemini-pro-vision\u001b[39m\u001b[38;5;124m\"\u001b[39m)\n\u001b[0;32m     11\u001b[0m response\u001b[38;5;241m=\u001b[39mmodel\u001b[38;5;241m.\u001b[39mgenerate_content({\u001b[38;5;124m\"\u001b[39m\u001b[38;5;124minline_data\u001b[39m\u001b[38;5;124m\"\u001b[39m:image_blob})\n",
      "\u001b[1;31mUnicodeDecodeError\u001b[0m: 'utf-8' codec can't decode byte 0xbd in position 4: invalid start byte"
     ]
    }
   ],
   "source": [
    "from PIL import Image\n",
    "import io\n",
    "import base64\n",
    "img=Image.open(\"benji.jpg\")\n",
    "bytes_arr=io.BytesIO()\n",
    "img.save(bytes_arr,format=img.format)\n",
    "bytes_arr=bytes_arr.getvalue()\n",
    "encoded_image_data=base64.b64decode(bytes_arr)\n",
    "image_blob={ 'mime_type':'image/jpeg','data':encoded_image_data.decode(\"utf-8\") }\n",
    "model=genai.GenerativeModel(\"gemini-pro-vision\")\n",
    "response=model.generate_content({\"inline_data\":image_blob})"
   ]
  },
  {
   "cell_type": "code",
   "execution_count": 32,
   "id": "e5de9b67-bd72-4065-8ea0-616f13637a26",
   "metadata": {},
   "outputs": [
    {
     "name": "stdout",
     "output_type": "stream",
     "text": [
      " The image shows a person feeding a puppy a cucumber. The puppy appears to be enjoying the cucumber, as it is eating it with gusto. The person feeding the puppy is holding the cucumber in their hand and is smiling. The puppy is sitting on the floor and is looking up at the person feeding it.\n",
      "benji.jpg\n"
     ]
    }
   ],
   "source": [
    "from pathlib import Path\n",
    "# Validate that an image is present\n",
    "if not (img := Path(\"benji.jpg\")).exists():\n",
    "  raise FileNotFoundError(f\"Could not find image: {img}\")\n",
    "\n",
    "image_parts = [\n",
    "  {\n",
    "    \"mime_type\": \"image/jpeg\",\n",
    "    \"data\": Path(\"benji.jpg\").read_bytes()\n",
    "  },\n",
    "]\n",
    "\n",
    "prompt_parts = [\n",
    "  \"Describe what the people are doing in this image:\\n\",\n",
    "  image_parts[0],\n",
    "  \"\\n\",\n",
    "]\n",
    "\n",
    "response = model.generate_content(prompt_parts)\n",
    "print(response.text)\n",
    "print(Path(\"benji.jpg\"))"
   ]
  },
  {
   "cell_type": "code",
   "execution_count": 34,
   "id": "e555cae1-fc35-4537-b045-6f75e6efa713",
   "metadata": {},
   "outputs": [
    {
     "name": "stdout",
     "output_type": "stream",
     "text": [
      " The salad contains:\n",
      "\n",
      "- lettuce\n",
      "- mango\n",
      "- walnuts\n",
      "- pumpkin seeds\n",
      "- pomegranate seeds\n"
     ]
    }
   ],
   "source": [
    "from pathlib import Path\n",
    "# Validate that an image is present\n",
    "if not (img := Path(\"Salad.jpg\")).exists():\n",
    "  raise FileNotFoundError(f\"Could not find image: {img}\")\n",
    "\n",
    "image_parts = [\n",
    "  {\n",
    "    \"mime_type\": \"image/jpeg\",\n",
    "    \"data\": Path(\"Salad.jpg\").read_bytes()\n",
    "  },\n",
    "]\n",
    "\n",
    "prompt_parts = [\n",
    "  \"What are the ingrediants for the salad?\\n\",\n",
    "  image_parts[0],\n",
    "  \"\\n\",\n",
    "]\n",
    "\n",
    "response = model.generate_content(prompt_parts)\n",
    "print(response.text)\n"
   ]
  },
  {
   "cell_type": "code",
   "execution_count": null,
   "id": "7a7fc508-35a9-42c4-8387-c13eedb984a7",
   "metadata": {},
   "outputs": [],
   "source": []
  }
 ],
 "metadata": {
  "kernelspec": {
   "display_name": "Python 3 (ipykernel)",
   "language": "python",
   "name": "python3"
  },
  "language_info": {
   "codemirror_mode": {
    "name": "ipython",
    "version": 3
   },
   "file_extension": ".py",
   "mimetype": "text/x-python",
   "name": "python",
   "nbconvert_exporter": "python",
   "pygments_lexer": "ipython3",
   "version": "3.9.5"
  }
 },
 "nbformat": 4,
 "nbformat_minor": 5
}
