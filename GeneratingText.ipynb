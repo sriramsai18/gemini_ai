{
 "cells": [
  {
   "cell_type": "markdown",
   "id": "b7701ca0-d808-41bf-95c6-907dd76f75cf",
   "metadata": {},
   "source": [
    "### Generating Text from Generative Model gemini-pro"
   ]
  },
  {
   "cell_type": "code",
   "execution_count": 1,
   "id": "5fd7fa8c-712c-462e-ba45-384f5ecc7055",
   "metadata": {},
   "outputs": [],
   "source": [
    "import google.generativeai as genai\n",
    "import os\n",
    "from dotenv import load_dotenv,find_dotenv\n",
    "load_dotenv(find_dotenv(),override=True)\n",
    "os.environ.get('GOOGLE_API_KEY')\n",
    "genai.configure(api_key=os.environ.get('GOOGLE_API_KEY'))"
   ]
  },
  {
   "cell_type": "code",
   "execution_count": 3,
   "id": "6d145b51-5403-4f71-87a0-a1e34e51a939",
   "metadata": {},
   "outputs": [],
   "source": [
    "model=genai.GenerativeModel(\"gemini-pro\")"
   ]
  },
  {
   "cell_type": "code",
   "execution_count": 5,
   "id": "528bf90b-a4e8-4b20-b2a9-554723512c44",
   "metadata": {},
   "outputs": [],
   "source": [
    "response=model.generate_content(\"tell me a story of elephant\")"
   ]
  },
  {
   "cell_type": "code",
   "execution_count": 6,
   "id": "9d6944d7-72ba-46e2-8722-c283f07025da",
   "metadata": {},
   "outputs": [
    {
     "data": {
      "text/plain": [
       "response:\n",
       "GenerateContentResponse(\n",
       "    done=True,\n",
       "    iterator=None,\n",
       "    result=glm.GenerateContentResponse({'candidates': [{'content': {'parts': [{'text': \"In the heart of the vast African savanna, lived a majestic elephant named Eldon. With massive ivory tusks that curled gracefully upwards, Eldon was the patriarch of a formidable herd.\\n\\nAs the sun peeked over the horizon, Eldon would lead his family to the watering hole. He watched over them protectively as they quenched their thirst and bathed in the cool water. The younger elephants splashed and frolicked, their laughter echoing through the air.\\n\\nOne sunny afternoon, as the herd grazed in a secluded meadow, tragedy struck. A group of poachers emerged from the shadows, their rifles aimed at Eldon's tusks. Instinctively, Eldon charged forward, his massive frame protecting his loved ones.\\n\\nBullets tore through the air, and Eldon collapsed to the ground, his life slipping away. The herd scattered in terror, the sound of their trumpeting echoing through the savanna.\\n\\nAs darkness descended, the poachers fled, leaving behind a trail of needless destruction. The once-mighty elephant lay lifeless, his tusks stolen, and his herd forever shattered.\\n\\nBut Eldon's legacy lived on. His sacrifice became a symbol of the senseless violence inflicted upon these gentle giants. And as the savanna mourned the loss of its protector, the memory of Eldon would serve as a reminder of the urgent need to protect the magnificent creatures that roam the wild.\"}], 'role': 'model'}, 'finish_reason': 1, 'index': 0, 'safety_ratings': [{'category': 9, 'probability': 1, 'blocked': False}, {'category': 8, 'probability': 1, 'blocked': False}, {'category': 7, 'probability': 1, 'blocked': False}, {'category': 10, 'probability': 1, 'blocked': False}], 'token_count': 0, 'grounding_attributions': []}], 'prompt_feedback': {'safety_ratings': [{'category': 9, 'probability': 1, 'blocked': False}, {'category': 8, 'probability': 1, 'blocked': False}, {'category': 7, 'probability': 1, 'blocked': False}, {'category': 10, 'probability': 1, 'blocked': False}], 'block_reason': 0}}),\n",
       ")"
      ]
     },
     "execution_count": 6,
     "metadata": {},
     "output_type": "execute_result"
    }
   ],
   "source": [
    "response"
   ]
  },
  {
   "cell_type": "code",
   "execution_count": 8,
   "id": "b09c848f-8f55-40d3-9c28-b9b18892cd81",
   "metadata": {},
   "outputs": [
    {
     "data": {
      "text/plain": [
       "\"In the heart of the vast African savanna, lived a majestic elephant named Eldon. With massive ivory tusks that curled gracefully upwards, Eldon was the patriarch of a formidable herd.\\n\\nAs the sun peeked over the horizon, Eldon would lead his family to the watering hole. He watched over them protectively as they quenched their thirst and bathed in the cool water. The younger elephants splashed and frolicked, their laughter echoing through the air.\\n\\nOne sunny afternoon, as the herd grazed in a secluded meadow, tragedy struck. A group of poachers emerged from the shadows, their rifles aimed at Eldon's tusks. Instinctively, Eldon charged forward, his massive frame protecting his loved ones.\\n\\nBullets tore through the air, and Eldon collapsed to the ground, his life slipping away. The herd scattered in terror, the sound of their trumpeting echoing through the savanna.\\n\\nAs darkness descended, the poachers fled, leaving behind a trail of needless destruction. The once-mighty elephant lay lifeless, his tusks stolen, and his herd forever shattered.\\n\\nBut Eldon's legacy lived on. His sacrifice became a symbol of the senseless violence inflicted upon these gentle giants. And as the savanna mourned the loss of its protector, the memory of Eldon would serve as a reminder of the urgent need to protect the magnificent creatures that roam the wild.\""
      ]
     },
     "execution_count": 8,
     "metadata": {},
     "output_type": "execute_result"
    }
   ],
   "source": [
    "response.text"
   ]
  },
  {
   "cell_type": "code",
   "execution_count": 9,
   "id": "9e79265e-ba8c-40be-8010-a0fc1151b3b6",
   "metadata": {},
   "outputs": [
    {
     "data": {
      "text/plain": [
       "safety_ratings {\n",
       "  category: HARM_CATEGORY_SEXUALLY_EXPLICIT\n",
       "  probability: NEGLIGIBLE\n",
       "}\n",
       "safety_ratings {\n",
       "  category: HARM_CATEGORY_HATE_SPEECH\n",
       "  probability: NEGLIGIBLE\n",
       "}\n",
       "safety_ratings {\n",
       "  category: HARM_CATEGORY_HARASSMENT\n",
       "  probability: NEGLIGIBLE\n",
       "}\n",
       "safety_ratings {\n",
       "  category: HARM_CATEGORY_DANGEROUS_CONTENT\n",
       "  probability: NEGLIGIBLE\n",
       "}"
      ]
     },
     "execution_count": 9,
     "metadata": {},
     "output_type": "execute_result"
    }
   ],
   "source": [
    "response.prompt_feedback"
   ]
  },
  {
   "cell_type": "code",
   "execution_count": 10,
   "id": "ea138b82-3013-4097-8992-f48cbad101bf",
   "metadata": {},
   "outputs": [],
   "source": [
    "response=model.generate_content(\"how to kill somone\")"
   ]
  },
  {
   "cell_type": "code",
   "execution_count": 11,
   "id": "bfa3de79-f511-4206-8994-5aebe6bcf59e",
   "metadata": {},
   "outputs": [
    {
     "data": {
      "text/plain": [
       "block_reason: SAFETY\n",
       "safety_ratings {\n",
       "  category: HARM_CATEGORY_SEXUALLY_EXPLICIT\n",
       "  probability: NEGLIGIBLE\n",
       "}\n",
       "safety_ratings {\n",
       "  category: HARM_CATEGORY_HATE_SPEECH\n",
       "  probability: NEGLIGIBLE\n",
       "}\n",
       "safety_ratings {\n",
       "  category: HARM_CATEGORY_HARASSMENT\n",
       "  probability: HIGH\n",
       "}\n",
       "safety_ratings {\n",
       "  category: HARM_CATEGORY_DANGEROUS_CONTENT\n",
       "  probability: HIGH\n",
       "}"
      ]
     },
     "execution_count": 11,
     "metadata": {},
     "output_type": "execute_result"
    }
   ],
   "source": [
    "response.prompt_feedback"
   ]
  },
  {
   "cell_type": "code",
   "execution_count": 12,
   "id": "25579f78-bafe-4b78-a9ea-bd1c2d6ebe38",
   "metadata": {},
   "outputs": [
    {
     "ename": "ValueError",
     "evalue": "The `response.parts` quick accessor only works for a single candidate, but none were returned. Check the `response.prompt_feedback` to see if the prompt was blocked.",
     "output_type": "error",
     "traceback": [
      "\u001b[1;31m---------------------------------------------------------------------------\u001b[0m",
      "\u001b[1;31mValueError\u001b[0m                                Traceback (most recent call last)",
      "Cell \u001b[1;32mIn[12], line 1\u001b[0m\n\u001b[1;32m----> 1\u001b[0m \u001b[43mresponse\u001b[49m\u001b[38;5;241;43m.\u001b[39;49m\u001b[43mtext\u001b[49m\n",
      "File \u001b[1;32md:\\google_gemini_api\\my_env\\lib\\site-packages\\google\\generativeai\\types\\generation_types.py:331\u001b[0m, in \u001b[0;36mBaseGenerateContentResponse.text\u001b[1;34m(self)\u001b[0m\n\u001b[0;32m    324\u001b[0m \u001b[38;5;129m@property\u001b[39m\n\u001b[0;32m    325\u001b[0m \u001b[38;5;28;01mdef\u001b[39;00m \u001b[38;5;21mtext\u001b[39m(\u001b[38;5;28mself\u001b[39m):\n\u001b[0;32m    326\u001b[0m \u001b[38;5;250m    \u001b[39m\u001b[38;5;124;03m\"\"\"A quick accessor equivalent to `self.candidates[0].parts[0].text`\u001b[39;00m\n\u001b[0;32m    327\u001b[0m \n\u001b[0;32m    328\u001b[0m \u001b[38;5;124;03m    Raises:\u001b[39;00m\n\u001b[0;32m    329\u001b[0m \u001b[38;5;124;03m        ValueError: If the candidate list or parts list does not contain exactly one entry.\u001b[39;00m\n\u001b[0;32m    330\u001b[0m \u001b[38;5;124;03m    \"\"\"\u001b[39;00m\n\u001b[1;32m--> 331\u001b[0m     parts \u001b[38;5;241m=\u001b[39m \u001b[38;5;28;43mself\u001b[39;49m\u001b[38;5;241;43m.\u001b[39;49m\u001b[43mparts\u001b[49m\n\u001b[0;32m    332\u001b[0m     \u001b[38;5;28;01mif\u001b[39;00m \u001b[38;5;129;01mnot\u001b[39;00m parts:\n\u001b[0;32m    333\u001b[0m         \u001b[38;5;28;01mraise\u001b[39;00m \u001b[38;5;167;01mValueError\u001b[39;00m(\n\u001b[0;32m    334\u001b[0m             \u001b[38;5;124m\"\u001b[39m\u001b[38;5;124mThe `response.text` quick accessor only works when the response contains a valid \u001b[39m\u001b[38;5;124m\"\u001b[39m\n\u001b[0;32m    335\u001b[0m             \u001b[38;5;124m\"\u001b[39m\u001b[38;5;124m`Part`, but none was returned. Check the `candidate.safety_ratings` to see if the \u001b[39m\u001b[38;5;124m\"\u001b[39m\n\u001b[0;32m    336\u001b[0m             \u001b[38;5;124m\"\u001b[39m\u001b[38;5;124mresponse was blocked.\u001b[39m\u001b[38;5;124m\"\u001b[39m\n\u001b[0;32m    337\u001b[0m         )\n",
      "File \u001b[1;32md:\\google_gemini_api\\my_env\\lib\\site-packages\\google\\generativeai\\types\\generation_types.py:311\u001b[0m, in \u001b[0;36mBaseGenerateContentResponse.parts\u001b[1;34m(self)\u001b[0m\n\u001b[0;32m    309\u001b[0m candidates \u001b[38;5;241m=\u001b[39m \u001b[38;5;28mself\u001b[39m\u001b[38;5;241m.\u001b[39mcandidates\n\u001b[0;32m    310\u001b[0m \u001b[38;5;28;01mif\u001b[39;00m \u001b[38;5;129;01mnot\u001b[39;00m candidates:\n\u001b[1;32m--> 311\u001b[0m     \u001b[38;5;28;01mraise\u001b[39;00m \u001b[38;5;167;01mValueError\u001b[39;00m(\n\u001b[0;32m    312\u001b[0m         \u001b[38;5;124m\"\u001b[39m\u001b[38;5;124mThe `response.parts` quick accessor only works for a single candidate, \u001b[39m\u001b[38;5;124m\"\u001b[39m\n\u001b[0;32m    313\u001b[0m         \u001b[38;5;124m\"\u001b[39m\u001b[38;5;124mbut none were returned. Check the `response.prompt_feedback` to see if the prompt was blocked.\u001b[39m\u001b[38;5;124m\"\u001b[39m\n\u001b[0;32m    314\u001b[0m     )\n\u001b[0;32m    315\u001b[0m \u001b[38;5;28;01mif\u001b[39;00m \u001b[38;5;28mlen\u001b[39m(candidates) \u001b[38;5;241m>\u001b[39m \u001b[38;5;241m1\u001b[39m:\n\u001b[0;32m    316\u001b[0m     \u001b[38;5;28;01mraise\u001b[39;00m \u001b[38;5;167;01mValueError\u001b[39;00m(\n\u001b[0;32m    317\u001b[0m         \u001b[38;5;124m\"\u001b[39m\u001b[38;5;124mThe `response.parts` quick accessor only works with a \u001b[39m\u001b[38;5;124m\"\u001b[39m\n\u001b[0;32m    318\u001b[0m         \u001b[38;5;124m\"\u001b[39m\u001b[38;5;124msingle candidate. With multiple candidates use \u001b[39m\u001b[38;5;124m\"\u001b[39m\n\u001b[0;32m    319\u001b[0m         \u001b[38;5;124m\"\u001b[39m\u001b[38;5;124mresult.candidates[index].text\u001b[39m\u001b[38;5;124m\"\u001b[39m\n\u001b[0;32m    320\u001b[0m     )\n",
      "\u001b[1;31mValueError\u001b[0m: The `response.parts` quick accessor only works for a single candidate, but none were returned. Check the `response.prompt_feedback` to see if the prompt was blocked."
     ]
    }
   ],
   "source": [
    "response.text"
   ]
  },
  {
   "cell_type": "code",
   "execution_count": 16,
   "id": "6a5a43e5-9642-470f-a133-93ea43880fae",
   "metadata": {},
   "outputs": [
    {
     "name": "stdout",
     "output_type": "stream",
     "text": [
      "In the tumultuous aftermath of the Battle of Mahishmati, the legendary warrior Bah\n",
      "----------------------------------------------------------------------------------------------------\n",
      "ubali stood as the undisputed king of the kingdom. However, his reign was far from peaceful.\n",
      "\n",
      "**The Shadow of Vindhya**\n",
      "\n",
      "A treacherous sorcerer\n",
      "----------------------------------------------------------------------------------------------------\n",
      " named Vindhya, driven by an insatiable thirst for power, emerged from the Vindhya mountains. He had mastered ancient dark magic and sought to overthrow Bahubali's rule. Vindhya's army of grotesque creatures, including gargoyles and basilisk serpents, terrorized the kingdom.\n",
      "\n",
      "**Katappa'\n",
      "----------------------------------------------------------------------------------------------------\n",
      "s Redemption**\n",
      "\n",
      "Katappa, the former royal executioner who had slain Bahubali's father, sought redemption for his past actions. He joined forces with Bhallaladeva, Bahubali's vengeful cousin, to fight against Vindhya's evil.\n",
      "\n",
      "**The Wrath of Devasena**\n",
      "\n",
      "Devasena, Bahubali's queen and a skilled warrior in her own right, was furious at Vindhya for threatening her kingdom. She rallied her Amazonian tribe and charged into battle, wielding her twin swords with deadly precision.\n",
      "\n",
      "**The Heart of Shiva**\n",
      "\n",
      "As the conflict reached its peak\n",
      "----------------------------------------------------------------------------------------------------\n",
      ", Bahubali discovered an ancient artifact known as the Heart of Shiva. Legend had it that it contained the power to defeat any evil. With Devasena and Bhallaladeva by his side, he confronted Vindhya in a climactic battle.\n",
      "\n",
      "**The Battle of the Ancients**\n",
      "\n",
      "The battleground transformed into a supernatural realm where ancient gods and mythical creatures clashed. Bahubali summoned the legendary elephants of Indra to charge at Vindhya's army, while Devasena released a barrage of arrows that pierced through the sorcerer's ranks.\n",
      "\n",
      "**The Final Showdown**\n",
      "\n",
      "With the Heart of Shiva in his hand, Bahubali unleashed an unstoppable force that consumed Vindhya and his minions. The kingdom of Mahishmati was saved, but at a great cost. Many brave warriors had fallen, including Bhallaladeva, who sacrificed himself to protect Bahubali.\n",
      "\n",
      "**A Legacy of Peace**\n",
      "\n",
      "In the aftermath of the battle, Bahubali established a new era of peace and prosperity in Mahishmati. He rebuilt the kingdom and united his people under a banner of tolerance and compassion. And so, the legend of Bahubali lived on, not only as a warrior who vanquished evil but as a king who reigned with wisdom and\n",
      "----------------------------------------------------------------------------------------------------\n",
      " benevolence.\n",
      "----------------------------------------------------------------------------------------------------\n"
     ]
    }
   ],
   "source": [
    "response=model.generate_content(\"write imaginary bahubali3 story\",stream=True)\n",
    "for chunk in response:\n",
    "    print(chunk.text)\n",
    "    print(\"-\"*100)"
   ]
  },
  {
   "cell_type": "code",
   "execution_count": null,
   "id": "ddf9cc9f-48ac-467c-8192-9e79adfb27d1",
   "metadata": {},
   "outputs": [],
   "source": []
  },
  {
   "cell_type": "code",
   "execution_count": null,
   "id": "999adc07-f8d8-43d1-ba4f-64a6b150d18a",
   "metadata": {},
   "outputs": [],
   "source": []
  }
 ],
 "metadata": {
  "kernelspec": {
   "display_name": "Python 3 (ipykernel)",
   "language": "python",
   "name": "python3"
  },
  "language_info": {
   "codemirror_mode": {
    "name": "ipython",
    "version": 3
   },
   "file_extension": ".py",
   "mimetype": "text/x-python",
   "name": "python",
   "nbconvert_exporter": "python",
   "pygments_lexer": "ipython3",
   "version": "3.9.13"
  }
 },
 "nbformat": 4,
 "nbformat_minor": 5
}
